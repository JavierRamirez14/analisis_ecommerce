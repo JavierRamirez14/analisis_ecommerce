{
 "cells": [
  {
   "cell_type": "markdown",
   "id": "19279382-4d54-4ffa-9604-d1fc2ef20bc1",
   "metadata": {},
   "source": [
    "# Análisis Ecommerce - Limpieza\n",
    "### *Javier Ramírez*\n",
    "---"
   ]
  },
  {
   "cell_type": "markdown",
   "id": "a06fc9ec-d056-4c83-9bb6-8d50b2051036",
   "metadata": {},
   "source": [
    "## Índice\n",
    "\n",
    "1. Importaciones\n",
    "2. Extracción de datos\n",
    "3. Unión de datos\n",
    "4. Diseño del proyecto\n",
    "5. Limpieza de datos"
   ]
  },
  {
   "cell_type": "markdown",
   "id": "fb1e7ba4-efb6-4a8e-8b52-f965ff28bdf4",
   "metadata": {},
   "source": [
    "---"
   ]
  },
  {
   "cell_type": "markdown",
   "id": "e5d786af-c75c-447a-b07e-0e31596b0fdc",
   "metadata": {},
   "source": [
    "## 1. Importaciones"
   ]
  },
  {
   "cell_type": "code",
   "execution_count": 1,
   "id": "65f31a0f",
   "metadata": {},
   "outputs": [],
   "source": [
    "import warnings\n",
    "# Ignorar todas las advertencias\n",
    "warnings.filterwarnings(\"ignore\")\n",
    "\n",
    "import pandas as pd\n",
    "import numpy as np\n",
    "import matplotlib.pyplot as plt\n",
    "%matplotlib inline\n",
    "import seaborn as sns"
   ]
  },
  {
   "cell_type": "markdown",
   "id": "828e5094-1a38-444e-b2f6-519439b5000a",
   "metadata": {},
   "source": [
    "---"
   ]
  },
  {
   "cell_type": "markdown",
   "id": "491efa7c",
   "metadata": {},
   "source": [
    "## 2. Extracción de Datos"
   ]
  },
  {
   "cell_type": "code",
   "execution_count": 2,
   "id": "c3c062c3",
   "metadata": {},
   "outputs": [
    {
     "name": "stdout",
     "output_type": "stream",
     "text": [
      "January:(9723, 6)\n",
      "February:(12036, 6)\n",
      "March:(15226, 6)\n",
      "April:(18383, 6)\n",
      "May:(16635, 6)\n",
      "June:(13622, 6)\n",
      "July:(14371, 6)\n",
      "August:(12011, 6)\n",
      "September:(11686, 6)\n",
      "October:(20379, 6)\n",
      "November:(17661, 6)\n",
      "December:(25117, 6)\n"
     ]
    }
   ],
   "source": [
    "meses = ['January', 'February', 'March', 'April', 'May', 'June', 'July', 'August', 'September', 'October', 'November', 'December']\n",
    "\n",
    "# Extraer el archivo de cada mes y guardarlo en una variable con su nombre\n",
    "for mes in meses:\n",
    "    exec(f'{mes.lower()[:3]} = pd.read_csv(\"Datos/Sales_{mes}_2019.csv\")')\n",
    "\n",
    "# Visualizar la estructura de cada dataset\n",
    "for mes in meses:\n",
    "    print(mes + ':' + str(eval(mes.lower()[:3]).shape))\n",
    "\n",
    "# Crear una lista con los nombres de cada dataset\n",
    "meses_r = []\n",
    "for mes in meses:\n",
    "    meses_r.append(mes.lower()[:3])"
   ]
  },
  {
   "cell_type": "markdown",
   "id": "0808a658-83cd-448c-96c9-23f086ac28a7",
   "metadata": {},
   "source": [
    "---"
   ]
  },
  {
   "cell_type": "markdown",
   "id": "3377e683",
   "metadata": {},
   "source": [
    "## 3. Unión de Datos"
   ]
  },
  {
   "cell_type": "code",
   "execution_count": 3,
   "id": "79db8555",
   "metadata": {},
   "outputs": [
    {
     "data": {
      "text/html": [
       "<div>\n",
       "<style scoped>\n",
       "    .dataframe tbody tr th:only-of-type {\n",
       "        vertical-align: middle;\n",
       "    }\n",
       "\n",
       "    .dataframe tbody tr th {\n",
       "        vertical-align: top;\n",
       "    }\n",
       "\n",
       "    .dataframe thead th {\n",
       "        text-align: right;\n",
       "    }\n",
       "</style>\n",
       "<table border=\"1\" class=\"dataframe\">\n",
       "  <thead>\n",
       "    <tr style=\"text-align: right;\">\n",
       "      <th></th>\n",
       "      <th>Order ID</th>\n",
       "      <th>Product</th>\n",
       "      <th>Quantity Ordered</th>\n",
       "      <th>Price Each</th>\n",
       "      <th>Order Date</th>\n",
       "      <th>Purchase Address</th>\n",
       "    </tr>\n",
       "  </thead>\n",
       "  <tbody>\n",
       "    <tr>\n",
       "      <th>0</th>\n",
       "      <td>141234</td>\n",
       "      <td>iPhone</td>\n",
       "      <td>1</td>\n",
       "      <td>700</td>\n",
       "      <td>01/22/19 21:25</td>\n",
       "      <td>944 Walnut St, Boston, MA 02215</td>\n",
       "    </tr>\n",
       "    <tr>\n",
       "      <th>1</th>\n",
       "      <td>141235</td>\n",
       "      <td>Lightning Charging Cable</td>\n",
       "      <td>1</td>\n",
       "      <td>14.95</td>\n",
       "      <td>01/28/19 14:15</td>\n",
       "      <td>185 Maple St, Portland, OR 97035</td>\n",
       "    </tr>\n",
       "    <tr>\n",
       "      <th>2</th>\n",
       "      <td>141236</td>\n",
       "      <td>Wired Headphones</td>\n",
       "      <td>2</td>\n",
       "      <td>11.99</td>\n",
       "      <td>01/17/19 13:33</td>\n",
       "      <td>538 Adams St, San Francisco, CA 94016</td>\n",
       "    </tr>\n",
       "    <tr>\n",
       "      <th>3</th>\n",
       "      <td>141237</td>\n",
       "      <td>27in FHD Monitor</td>\n",
       "      <td>1</td>\n",
       "      <td>149.99</td>\n",
       "      <td>01/05/19 20:33</td>\n",
       "      <td>738 10th St, Los Angeles, CA 90001</td>\n",
       "    </tr>\n",
       "    <tr>\n",
       "      <th>4</th>\n",
       "      <td>141238</td>\n",
       "      <td>Wired Headphones</td>\n",
       "      <td>1</td>\n",
       "      <td>11.99</td>\n",
       "      <td>01/25/19 11:59</td>\n",
       "      <td>387 10th St, Austin, TX 73301</td>\n",
       "    </tr>\n",
       "  </tbody>\n",
       "</table>\n",
       "</div>"
      ],
      "text/plain": [
       "  Order ID                   Product Quantity Ordered Price Each  \\\n",
       "0   141234                    iPhone                1        700   \n",
       "1   141235  Lightning Charging Cable                1      14.95   \n",
       "2   141236          Wired Headphones                2      11.99   \n",
       "3   141237          27in FHD Monitor                1     149.99   \n",
       "4   141238          Wired Headphones                1      11.99   \n",
       "\n",
       "       Order Date                       Purchase Address  \n",
       "0  01/22/19 21:25        944 Walnut St, Boston, MA 02215  \n",
       "1  01/28/19 14:15       185 Maple St, Portland, OR 97035  \n",
       "2  01/17/19 13:33  538 Adams St, San Francisco, CA 94016  \n",
       "3  01/05/19 20:33     738 10th St, Los Angeles, CA 90001  \n",
       "4  01/25/19 11:59          387 10th St, Austin, TX 73301  "
      ]
     },
     "execution_count": 3,
     "metadata": {},
     "output_type": "execute_result"
    }
   ],
   "source": [
    "jan.head()"
   ]
  },
  {
   "cell_type": "code",
   "execution_count": 4,
   "id": "78b5a756",
   "metadata": {},
   "outputs": [
    {
     "data": {
      "text/html": [
       "<div>\n",
       "<style scoped>\n",
       "    .dataframe tbody tr th:only-of-type {\n",
       "        vertical-align: middle;\n",
       "    }\n",
       "\n",
       "    .dataframe tbody tr th {\n",
       "        vertical-align: top;\n",
       "    }\n",
       "\n",
       "    .dataframe thead th {\n",
       "        text-align: right;\n",
       "    }\n",
       "</style>\n",
       "<table border=\"1\" class=\"dataframe\">\n",
       "  <thead>\n",
       "    <tr style=\"text-align: right;\">\n",
       "      <th></th>\n",
       "      <th>Order ID</th>\n",
       "      <th>Product</th>\n",
       "      <th>Quantity Ordered</th>\n",
       "      <th>Price Each</th>\n",
       "      <th>Order Date</th>\n",
       "      <th>Purchase Address</th>\n",
       "    </tr>\n",
       "  </thead>\n",
       "  <tbody>\n",
       "    <tr>\n",
       "      <th>0</th>\n",
       "      <td>150502</td>\n",
       "      <td>iPhone</td>\n",
       "      <td>1</td>\n",
       "      <td>700</td>\n",
       "      <td>02/18/19 01:35</td>\n",
       "      <td>866 Spruce St, Portland, ME 04101</td>\n",
       "    </tr>\n",
       "    <tr>\n",
       "      <th>1</th>\n",
       "      <td>150503</td>\n",
       "      <td>AA Batteries (4-pack)</td>\n",
       "      <td>1</td>\n",
       "      <td>3.84</td>\n",
       "      <td>02/13/19 07:24</td>\n",
       "      <td>18 13th St, San Francisco, CA 94016</td>\n",
       "    </tr>\n",
       "    <tr>\n",
       "      <th>2</th>\n",
       "      <td>150504</td>\n",
       "      <td>27in 4K Gaming Monitor</td>\n",
       "      <td>1</td>\n",
       "      <td>389.99</td>\n",
       "      <td>02/18/19 09:46</td>\n",
       "      <td>52 6th St, New York City, NY 10001</td>\n",
       "    </tr>\n",
       "    <tr>\n",
       "      <th>3</th>\n",
       "      <td>150505</td>\n",
       "      <td>Lightning Charging Cable</td>\n",
       "      <td>1</td>\n",
       "      <td>14.95</td>\n",
       "      <td>02/02/19 16:47</td>\n",
       "      <td>129 Cherry St, Atlanta, GA 30301</td>\n",
       "    </tr>\n",
       "    <tr>\n",
       "      <th>4</th>\n",
       "      <td>150506</td>\n",
       "      <td>AA Batteries (4-pack)</td>\n",
       "      <td>2</td>\n",
       "      <td>3.84</td>\n",
       "      <td>02/28/19 20:32</td>\n",
       "      <td>548 Lincoln St, Seattle, WA 98101</td>\n",
       "    </tr>\n",
       "  </tbody>\n",
       "</table>\n",
       "</div>"
      ],
      "text/plain": [
       "  Order ID                   Product Quantity Ordered Price Each  \\\n",
       "0   150502                    iPhone                1        700   \n",
       "1   150503     AA Batteries (4-pack)                1       3.84   \n",
       "2   150504    27in 4K Gaming Monitor                1     389.99   \n",
       "3   150505  Lightning Charging Cable                1      14.95   \n",
       "4   150506     AA Batteries (4-pack)                2       3.84   \n",
       "\n",
       "       Order Date                     Purchase Address  \n",
       "0  02/18/19 01:35    866 Spruce St, Portland, ME 04101  \n",
       "1  02/13/19 07:24  18 13th St, San Francisco, CA 94016  \n",
       "2  02/18/19 09:46   52 6th St, New York City, NY 10001  \n",
       "3  02/02/19 16:47     129 Cherry St, Atlanta, GA 30301  \n",
       "4  02/28/19 20:32    548 Lincoln St, Seattle, WA 98101  "
      ]
     },
     "execution_count": 4,
     "metadata": {},
     "output_type": "execute_result"
    }
   ],
   "source": [
    "feb.head()"
   ]
  },
  {
   "cell_type": "code",
   "execution_count": 5,
   "id": "e4501de0",
   "metadata": {},
   "outputs": [
    {
     "data": {
      "text/html": [
       "<div>\n",
       "<style scoped>\n",
       "    .dataframe tbody tr th:only-of-type {\n",
       "        vertical-align: middle;\n",
       "    }\n",
       "\n",
       "    .dataframe tbody tr th {\n",
       "        vertical-align: top;\n",
       "    }\n",
       "\n",
       "    .dataframe thead th {\n",
       "        text-align: right;\n",
       "    }\n",
       "</style>\n",
       "<table border=\"1\" class=\"dataframe\">\n",
       "  <thead>\n",
       "    <tr style=\"text-align: right;\">\n",
       "      <th></th>\n",
       "      <th>Order ID</th>\n",
       "      <th>Product</th>\n",
       "      <th>Quantity Ordered</th>\n",
       "      <th>Price Each</th>\n",
       "      <th>Order Date</th>\n",
       "      <th>Purchase Address</th>\n",
       "    </tr>\n",
       "  </thead>\n",
       "  <tbody>\n",
       "    <tr>\n",
       "      <th>0</th>\n",
       "      <td>141234</td>\n",
       "      <td>iPhone</td>\n",
       "      <td>1</td>\n",
       "      <td>700</td>\n",
       "      <td>01/22/19 21:25</td>\n",
       "      <td>944 Walnut St, Boston, MA 02215</td>\n",
       "    </tr>\n",
       "    <tr>\n",
       "      <th>1</th>\n",
       "      <td>141235</td>\n",
       "      <td>Lightning Charging Cable</td>\n",
       "      <td>1</td>\n",
       "      <td>14.95</td>\n",
       "      <td>01/28/19 14:15</td>\n",
       "      <td>185 Maple St, Portland, OR 97035</td>\n",
       "    </tr>\n",
       "    <tr>\n",
       "      <th>2</th>\n",
       "      <td>141236</td>\n",
       "      <td>Wired Headphones</td>\n",
       "      <td>2</td>\n",
       "      <td>11.99</td>\n",
       "      <td>01/17/19 13:33</td>\n",
       "      <td>538 Adams St, San Francisco, CA 94016</td>\n",
       "    </tr>\n",
       "    <tr>\n",
       "      <th>3</th>\n",
       "      <td>141237</td>\n",
       "      <td>27in FHD Monitor</td>\n",
       "      <td>1</td>\n",
       "      <td>149.99</td>\n",
       "      <td>01/05/19 20:33</td>\n",
       "      <td>738 10th St, Los Angeles, CA 90001</td>\n",
       "    </tr>\n",
       "    <tr>\n",
       "      <th>4</th>\n",
       "      <td>141238</td>\n",
       "      <td>Wired Headphones</td>\n",
       "      <td>1</td>\n",
       "      <td>11.99</td>\n",
       "      <td>01/25/19 11:59</td>\n",
       "      <td>387 10th St, Austin, TX 73301</td>\n",
       "    </tr>\n",
       "    <tr>\n",
       "      <th>...</th>\n",
       "      <td>...</td>\n",
       "      <td>...</td>\n",
       "      <td>...</td>\n",
       "      <td>...</td>\n",
       "      <td>...</td>\n",
       "      <td>...</td>\n",
       "    </tr>\n",
       "    <tr>\n",
       "      <th>186845</th>\n",
       "      <td>319666</td>\n",
       "      <td>Lightning Charging Cable</td>\n",
       "      <td>1</td>\n",
       "      <td>14.95</td>\n",
       "      <td>12/11/19 20:58</td>\n",
       "      <td>14 Madison St, San Francisco, CA 94016</td>\n",
       "    </tr>\n",
       "    <tr>\n",
       "      <th>186846</th>\n",
       "      <td>319667</td>\n",
       "      <td>AA Batteries (4-pack)</td>\n",
       "      <td>2</td>\n",
       "      <td>3.84</td>\n",
       "      <td>12/01/19 12:01</td>\n",
       "      <td>549 Willow St, Los Angeles, CA 90001</td>\n",
       "    </tr>\n",
       "    <tr>\n",
       "      <th>186847</th>\n",
       "      <td>319668</td>\n",
       "      <td>Vareebadd Phone</td>\n",
       "      <td>1</td>\n",
       "      <td>400</td>\n",
       "      <td>12/09/19 06:43</td>\n",
       "      <td>273 Wilson St, Seattle, WA 98101</td>\n",
       "    </tr>\n",
       "    <tr>\n",
       "      <th>186848</th>\n",
       "      <td>319669</td>\n",
       "      <td>Wired Headphones</td>\n",
       "      <td>1</td>\n",
       "      <td>11.99</td>\n",
       "      <td>12/03/19 10:39</td>\n",
       "      <td>778 River St, Dallas, TX 75001</td>\n",
       "    </tr>\n",
       "    <tr>\n",
       "      <th>186849</th>\n",
       "      <td>319670</td>\n",
       "      <td>Bose SoundSport Headphones</td>\n",
       "      <td>1</td>\n",
       "      <td>99.99</td>\n",
       "      <td>12/21/19 21:45</td>\n",
       "      <td>747 Chestnut St, Los Angeles, CA 90001</td>\n",
       "    </tr>\n",
       "  </tbody>\n",
       "</table>\n",
       "<p>186850 rows × 6 columns</p>\n",
       "</div>"
      ],
      "text/plain": [
       "       Order ID                     Product Quantity Ordered Price Each  \\\n",
       "0        141234                      iPhone                1        700   \n",
       "1        141235    Lightning Charging Cable                1      14.95   \n",
       "2        141236            Wired Headphones                2      11.99   \n",
       "3        141237            27in FHD Monitor                1     149.99   \n",
       "4        141238            Wired Headphones                1      11.99   \n",
       "...         ...                         ...              ...        ...   \n",
       "186845   319666    Lightning Charging Cable                1      14.95   \n",
       "186846   319667       AA Batteries (4-pack)                2       3.84   \n",
       "186847   319668             Vareebadd Phone                1        400   \n",
       "186848   319669            Wired Headphones                1      11.99   \n",
       "186849   319670  Bose SoundSport Headphones                1      99.99   \n",
       "\n",
       "            Order Date                        Purchase Address  \n",
       "0       01/22/19 21:25         944 Walnut St, Boston, MA 02215  \n",
       "1       01/28/19 14:15        185 Maple St, Portland, OR 97035  \n",
       "2       01/17/19 13:33   538 Adams St, San Francisco, CA 94016  \n",
       "3       01/05/19 20:33      738 10th St, Los Angeles, CA 90001  \n",
       "4       01/25/19 11:59           387 10th St, Austin, TX 73301  \n",
       "...                ...                                     ...  \n",
       "186845  12/11/19 20:58  14 Madison St, San Francisco, CA 94016  \n",
       "186846  12/01/19 12:01    549 Willow St, Los Angeles, CA 90001  \n",
       "186847  12/09/19 06:43        273 Wilson St, Seattle, WA 98101  \n",
       "186848  12/03/19 10:39          778 River St, Dallas, TX 75001  \n",
       "186849  12/21/19 21:45  747 Chestnut St, Los Angeles, CA 90001  \n",
       "\n",
       "[186850 rows x 6 columns]"
      ]
     },
     "execution_count": 5,
     "metadata": {},
     "output_type": "execute_result"
    }
   ],
   "source": [
    "# Concatenar todos los datos de cada mes\n",
    "df = pd.concat([globals()[mes] for mes in meses_r], axis = 0).reset_index(drop = True)\n",
    "df"
   ]
  },
  {
   "cell_type": "markdown",
   "id": "d218cec7",
   "metadata": {},
   "source": [
    "Apilamos los registros usando pd.concat() con el axis = 0, para que lo junte por filas y no por columnas y usamos globals() para acceder a las variables globales, ya que los elementos de meses_r estan en formato string y queremos que sean las variables que contienen los dataframes."
   ]
  },
  {
   "cell_type": "code",
   "execution_count": 6,
   "id": "7c7b7a23",
   "metadata": {},
   "outputs": [
    {
     "data": {
      "text/plain": [
       "8411"
      ]
     },
     "execution_count": 6,
     "metadata": {},
     "output_type": "execute_result"
    }
   ],
   "source": [
    "df['Order ID'].duplicated().sum()"
   ]
  },
  {
   "cell_type": "code",
   "execution_count": 7,
   "id": "fc806a1b",
   "metadata": {},
   "outputs": [
    {
     "data": {
      "text/html": [
       "<div>\n",
       "<style scoped>\n",
       "    .dataframe tbody tr th:only-of-type {\n",
       "        vertical-align: middle;\n",
       "    }\n",
       "\n",
       "    .dataframe tbody tr th {\n",
       "        vertical-align: top;\n",
       "    }\n",
       "\n",
       "    .dataframe thead th {\n",
       "        text-align: right;\n",
       "    }\n",
       "</style>\n",
       "<table border=\"1\" class=\"dataframe\">\n",
       "  <thead>\n",
       "    <tr style=\"text-align: right;\">\n",
       "      <th></th>\n",
       "      <th>Order ID</th>\n",
       "      <th>Product</th>\n",
       "      <th>Quantity Ordered</th>\n",
       "      <th>Price Each</th>\n",
       "      <th>Order Date</th>\n",
       "      <th>Purchase Address</th>\n",
       "    </tr>\n",
       "  </thead>\n",
       "  <tbody>\n",
       "    <tr>\n",
       "      <th>41</th>\n",
       "      <td>141275</td>\n",
       "      <td>USB-C Charging Cable</td>\n",
       "      <td>1</td>\n",
       "      <td>11.95</td>\n",
       "      <td>01/07/19 16:06</td>\n",
       "      <td>610 Walnut St, Austin, TX 73301</td>\n",
       "    </tr>\n",
       "    <tr>\n",
       "      <th>42</th>\n",
       "      <td>141275</td>\n",
       "      <td>Wired Headphones</td>\n",
       "      <td>1</td>\n",
       "      <td>11.99</td>\n",
       "      <td>01/07/19 16:06</td>\n",
       "      <td>610 Walnut St, Austin, TX 73301</td>\n",
       "    </tr>\n",
       "    <tr>\n",
       "      <th>57</th>\n",
       "      <td>141290</td>\n",
       "      <td>Apple Airpods Headphones</td>\n",
       "      <td>1</td>\n",
       "      <td>150</td>\n",
       "      <td>01/02/19 08:25</td>\n",
       "      <td>4 1st St, Los Angeles, CA 90001</td>\n",
       "    </tr>\n",
       "    <tr>\n",
       "      <th>58</th>\n",
       "      <td>141290</td>\n",
       "      <td>AA Batteries (4-pack)</td>\n",
       "      <td>3</td>\n",
       "      <td>3.84</td>\n",
       "      <td>01/02/19 08:25</td>\n",
       "      <td>4 1st St, Los Angeles, CA 90001</td>\n",
       "    </tr>\n",
       "    <tr>\n",
       "      <th>133</th>\n",
       "      <td>141365</td>\n",
       "      <td>Vareebadd Phone</td>\n",
       "      <td>1</td>\n",
       "      <td>400</td>\n",
       "      <td>01/10/19 11:19</td>\n",
       "      <td>20 Dogwood St, New York City, NY 10001</td>\n",
       "    </tr>\n",
       "  </tbody>\n",
       "</table>\n",
       "</div>"
      ],
      "text/plain": [
       "    Order ID                   Product Quantity Ordered Price Each  \\\n",
       "41    141275      USB-C Charging Cable                1      11.95   \n",
       "42    141275          Wired Headphones                1      11.99   \n",
       "57    141290  Apple Airpods Headphones                1        150   \n",
       "58    141290     AA Batteries (4-pack)                3       3.84   \n",
       "133   141365           Vareebadd Phone                1        400   \n",
       "\n",
       "         Order Date                        Purchase Address  \n",
       "41   01/07/19 16:06         610 Walnut St, Austin, TX 73301  \n",
       "42   01/07/19 16:06         610 Walnut St, Austin, TX 73301  \n",
       "57   01/02/19 08:25         4 1st St, Los Angeles, CA 90001  \n",
       "58   01/02/19 08:25         4 1st St, Los Angeles, CA 90001  \n",
       "133  01/10/19 11:19  20 Dogwood St, New York City, NY 10001  "
      ]
     },
     "execution_count": 7,
     "metadata": {},
     "output_type": "execute_result"
    }
   ],
   "source": [
    "dupl = df.loc[df['Order ID'].duplicated(keep = False)]\n",
    "dupl.head()"
   ]
  },
  {
   "cell_type": "markdown",
   "id": "e452744c",
   "metadata": {},
   "source": [
    "Vemos que en algunas ocasiones el Order ID se repite, queriendo decir que este hace referencia o bien a un cliente o a una sesión de compra, vamos a comprobarlo."
   ]
  },
  {
   "cell_type": "code",
   "execution_count": 8,
   "id": "d1c1b5c2",
   "metadata": {},
   "outputs": [
    {
     "data": {
      "text/html": [
       "<div>\n",
       "<style scoped>\n",
       "    .dataframe tbody tr th:only-of-type {\n",
       "        vertical-align: middle;\n",
       "    }\n",
       "\n",
       "    .dataframe tbody tr th {\n",
       "        vertical-align: top;\n",
       "    }\n",
       "\n",
       "    .dataframe thead th {\n",
       "        text-align: right;\n",
       "    }\n",
       "</style>\n",
       "<table border=\"1\" class=\"dataframe\">\n",
       "  <thead>\n",
       "    <tr style=\"text-align: right;\">\n",
       "      <th></th>\n",
       "      <th>Order ID</th>\n",
       "      <th>Order Date</th>\n",
       "      <th>Purchase Address</th>\n",
       "    </tr>\n",
       "  </thead>\n",
       "  <tbody>\n",
       "    <tr>\n",
       "      <th>0</th>\n",
       "      <td>141275</td>\n",
       "      <td>01/07/19 16:06</td>\n",
       "      <td>610 Walnut St, Austin, TX 73301</td>\n",
       "    </tr>\n",
       "    <tr>\n",
       "      <th>1</th>\n",
       "      <td>141290</td>\n",
       "      <td>01/02/19 08:25</td>\n",
       "      <td>4 1st St, Los Angeles, CA 90001</td>\n",
       "    </tr>\n",
       "    <tr>\n",
       "      <th>2</th>\n",
       "      <td>141365</td>\n",
       "      <td>01/10/19 11:19</td>\n",
       "      <td>20 Dogwood St, New York City, NY 10001</td>\n",
       "    </tr>\n",
       "    <tr>\n",
       "      <th>3</th>\n",
       "      <td>141384</td>\n",
       "      <td>01/03/19 00:14</td>\n",
       "      <td>223 Jackson St, Boston, MA 02215</td>\n",
       "    </tr>\n",
       "    <tr>\n",
       "      <th>4</th>\n",
       "      <td>141450</td>\n",
       "      <td>01/12/19 11:16</td>\n",
       "      <td>521 Park St, San Francisco, CA 94016</td>\n",
       "    </tr>\n",
       "  </tbody>\n",
       "</table>\n",
       "</div>"
      ],
      "text/plain": [
       "  Order ID      Order Date                        Purchase Address\n",
       "0   141275  01/07/19 16:06         610 Walnut St, Austin, TX 73301\n",
       "1   141290  01/02/19 08:25         4 1st St, Los Angeles, CA 90001\n",
       "2   141365  01/10/19 11:19  20 Dogwood St, New York City, NY 10001\n",
       "3   141384  01/03/19 00:14        223 Jackson St, Boston, MA 02215\n",
       "4   141450  01/12/19 11:16    521 Park St, San Francisco, CA 94016"
      ]
     },
     "execution_count": 8,
     "metadata": {},
     "output_type": "execute_result"
    }
   ],
   "source": [
    "s = dupl.groupby(['Order ID', 'Order Date'], as_index = False)[['Purchase Address']].max()\n",
    "s.head()"
   ]
  },
  {
   "cell_type": "code",
   "execution_count": 9,
   "id": "ed1b579c",
   "metadata": {},
   "outputs": [
    {
     "data": {
      "text/plain": [
       "0"
      ]
     },
     "execution_count": 9,
     "metadata": {},
     "output_type": "execute_result"
    }
   ],
   "source": [
    "s['Order ID'].duplicated().sum()"
   ]
  },
  {
   "cell_type": "markdown",
   "id": "fa7e6739",
   "metadata": {},
   "source": [
    "Vemos que para cada Order ID solo hay una fecha, por lo que se trata de la sesión, ya que si fuesen clientes habrian varias fechas, a no ser que ningún cliente haya realizado mas de una compra, algo bastante raro."
   ]
  },
  {
   "cell_type": "markdown",
   "id": "8403c61c-82c6-4bf5-8693-d6ef72486f0e",
   "metadata": {},
   "source": [
    "---"
   ]
  },
  {
   "cell_type": "markdown",
   "id": "0e201e98",
   "metadata": {},
   "source": [
    "## 4. Diseño del proyecto"
   ]
  },
  {
   "cell_type": "markdown",
   "id": "24a50500",
   "metadata": {},
   "source": [
    "### 4.1. Objetivo"
   ]
  },
  {
   "cell_type": "markdown",
   "id": "d242408d",
   "metadata": {},
   "source": [
    "El objetivo de este proyecto es proponer acciones para incrementar la facturación de la empresa, ya sea aumentando las ventas o disminuyendo los costes."
   ]
  },
  {
   "cell_type": "markdown",
   "id": "25d834a4",
   "metadata": {},
   "source": [
    "### 4.2. Palancas"
   ]
  },
  {
   "cell_type": "markdown",
   "id": "691188e7",
   "metadata": {},
   "source": [
    "1. Cliente\n",
    "2. Producto\n",
    "3. Sesion\n",
    "4. Localizacion"
   ]
  },
  {
   "cell_type": "markdown",
   "id": "895addee",
   "metadata": {},
   "source": [
    "### 4.3. KPIs"
   ]
  },
  {
   "cell_type": "markdown",
   "id": "889b8ca5",
   "metadata": {},
   "source": [
    "#### Clientes:\n",
    "    1. Número de compras/año\n",
    "    2. Número de productos comprados/año\n",
    "    3. Dinero gastado/año"
   ]
  },
  {
   "cell_type": "markdown",
   "id": "fa4680c1",
   "metadata": {},
   "source": [
    "#### Producto:\n",
    "    1. Productos comprados/año\n",
    "    2. Productos comprados/mes\n",
    "    3. Media de productos diferentes comprados por cada cliente"
   ]
  },
  {
   "cell_type": "markdown",
   "id": "0648a809",
   "metadata": {},
   "source": [
    "#### Sesión:\n",
    "    1. Número de productos comprados por sesión\n",
    "    2. Dinero gastado por sesión"
   ]
  },
  {
   "cell_type": "markdown",
   "id": "4ae78360",
   "metadata": {},
   "source": [
    "#### Localización:\n",
    "    1. Estados y ciudades con más compras\n",
    "    2. Estados y ciudades con más dinero gastado\n",
    "    3. Estados y ciudades con menos compras\n",
    "    4. Estados y ciudades con menos dinero gastado"
   ]
  },
  {
   "cell_type": "markdown",
   "id": "5d87c7c0",
   "metadata": {},
   "source": [
    "### 4.4. Preguntas semilla"
   ]
  },
  {
   "cell_type": "markdown",
   "id": "55ccab6c-5e42-44b0-bbeb-2087ab86dfc8",
   "metadata": {},
   "source": [
    "#### Cliente:\n",
    "    1. ¿Cuántos productos compra cada cliente en promedio?\n",
    "    2. ¿Cuánto gasta cada cliente mensual y anualmente?\n",
    "    3. ¿Existen \"mejores clientes\" que debamos identificar y tratar de manera diferenciada?\n",
    "    4. ¿Los clientes repiten sus compras en los meses siguientes?\n",
    "    5. ¿Cuál es el valor de vida promedio (LTV) de un cliente?"
   ]
  },
  {
   "cell_type": "markdown",
   "id": "397de936-e560-4eb2-a28f-7323fc147bbf",
   "metadata": {},
   "source": [
    "#### Producto:\n",
    "    1. ¿Cuáles son los productos más vendidos?\n",
    "    2. ¿Existen productos que tienen una venta prácticamente nula?\n",
    "    3. ¿Hay productos que son adquiridos regularmente por el mismo cliente?\n",
    "    4. ¿Existen productos que son comprados en grandes cantidades en una sola compra?\n",
    "    5. ¿Existe una relación entre el precio y el volumen de ventas?\n",
    "    6. ¿Existen meses en los que se adquieren más o menos productos?\n",
    "    7. ¿Es posible generar recomendaciones de productos personalizadas para cada cliente?"
   ]
  },
  {
   "cell_type": "markdown",
   "id": "1139b9cf-2803-4387-8e13-a5ccf099bf03",
   "metadata": {},
   "source": [
    "#### Sesión:\n",
    "    1. ¿Cuántos productos se compran en promedio por sesión?\n",
    "    2. ¿Cuánto dinero se gasta en promedio por sesión?\n",
    "    3. ¿A qué horas suelen realizarse las compras?\n",
    "    4. ¿Existen días concretos en los que se ha observado un aumento significativo en el número de ventas?"
   ]
  },
  {
   "cell_type": "markdown",
   "id": "e3338c3a",
   "metadata": {},
   "source": [
    "#### Localización:\n",
    "    1. KPIs\n",
    "    2. ¿Existe alguna relación entre los estados o ciudades y alguna otra variable?"
   ]
  },
  {
   "cell_type": "markdown",
   "id": "b4e68289-5e4b-4078-a49b-9b6ff2c15c84",
   "metadata": {},
   "source": [
    "---"
   ]
  },
  {
   "cell_type": "markdown",
   "id": "20f299d5",
   "metadata": {},
   "source": [
    "## 5. Limpieza de Datos"
   ]
  },
  {
   "cell_type": "code",
   "execution_count": 10,
   "id": "0a203913",
   "metadata": {},
   "outputs": [
    {
     "name": "stdout",
     "output_type": "stream",
     "text": [
      "(186850, 6)\n"
     ]
    },
    {
     "data": {
      "text/html": [
       "<div>\n",
       "<style scoped>\n",
       "    .dataframe tbody tr th:only-of-type {\n",
       "        vertical-align: middle;\n",
       "    }\n",
       "\n",
       "    .dataframe tbody tr th {\n",
       "        vertical-align: top;\n",
       "    }\n",
       "\n",
       "    .dataframe thead th {\n",
       "        text-align: right;\n",
       "    }\n",
       "</style>\n",
       "<table border=\"1\" class=\"dataframe\">\n",
       "  <thead>\n",
       "    <tr style=\"text-align: right;\">\n",
       "      <th></th>\n",
       "      <th>Order ID</th>\n",
       "      <th>Product</th>\n",
       "      <th>Quantity Ordered</th>\n",
       "      <th>Price Each</th>\n",
       "      <th>Order Date</th>\n",
       "      <th>Purchase Address</th>\n",
       "    </tr>\n",
       "  </thead>\n",
       "  <tbody>\n",
       "    <tr>\n",
       "      <th>0</th>\n",
       "      <td>141234</td>\n",
       "      <td>iPhone</td>\n",
       "      <td>1</td>\n",
       "      <td>700</td>\n",
       "      <td>01/22/19 21:25</td>\n",
       "      <td>944 Walnut St, Boston, MA 02215</td>\n",
       "    </tr>\n",
       "    <tr>\n",
       "      <th>1</th>\n",
       "      <td>141235</td>\n",
       "      <td>Lightning Charging Cable</td>\n",
       "      <td>1</td>\n",
       "      <td>14.95</td>\n",
       "      <td>01/28/19 14:15</td>\n",
       "      <td>185 Maple St, Portland, OR 97035</td>\n",
       "    </tr>\n",
       "    <tr>\n",
       "      <th>2</th>\n",
       "      <td>141236</td>\n",
       "      <td>Wired Headphones</td>\n",
       "      <td>2</td>\n",
       "      <td>11.99</td>\n",
       "      <td>01/17/19 13:33</td>\n",
       "      <td>538 Adams St, San Francisco, CA 94016</td>\n",
       "    </tr>\n",
       "    <tr>\n",
       "      <th>3</th>\n",
       "      <td>141237</td>\n",
       "      <td>27in FHD Monitor</td>\n",
       "      <td>1</td>\n",
       "      <td>149.99</td>\n",
       "      <td>01/05/19 20:33</td>\n",
       "      <td>738 10th St, Los Angeles, CA 90001</td>\n",
       "    </tr>\n",
       "    <tr>\n",
       "      <th>4</th>\n",
       "      <td>141238</td>\n",
       "      <td>Wired Headphones</td>\n",
       "      <td>1</td>\n",
       "      <td>11.99</td>\n",
       "      <td>01/25/19 11:59</td>\n",
       "      <td>387 10th St, Austin, TX 73301</td>\n",
       "    </tr>\n",
       "  </tbody>\n",
       "</table>\n",
       "</div>"
      ],
      "text/plain": [
       "  Order ID                   Product Quantity Ordered Price Each  \\\n",
       "0   141234                    iPhone                1        700   \n",
       "1   141235  Lightning Charging Cable                1      14.95   \n",
       "2   141236          Wired Headphones                2      11.99   \n",
       "3   141237          27in FHD Monitor                1     149.99   \n",
       "4   141238          Wired Headphones                1      11.99   \n",
       "\n",
       "       Order Date                       Purchase Address  \n",
       "0  01/22/19 21:25        944 Walnut St, Boston, MA 02215  \n",
       "1  01/28/19 14:15       185 Maple St, Portland, OR 97035  \n",
       "2  01/17/19 13:33  538 Adams St, San Francisco, CA 94016  \n",
       "3  01/05/19 20:33     738 10th St, Los Angeles, CA 90001  \n",
       "4  01/25/19 11:59          387 10th St, Austin, TX 73301  "
      ]
     },
     "execution_count": 10,
     "metadata": {},
     "output_type": "execute_result"
    }
   ],
   "source": [
    "print(df.shape)\n",
    "df.head()"
   ]
  },
  {
   "cell_type": "code",
   "execution_count": 11,
   "id": "5650aa87",
   "metadata": {},
   "outputs": [
    {
     "name": "stdout",
     "output_type": "stream",
     "text": [
      "<class 'pandas.core.frame.DataFrame'>\n",
      "RangeIndex: 186850 entries, 0 to 186849\n",
      "Data columns (total 6 columns):\n",
      " #   Column            Non-Null Count   Dtype \n",
      "---  ------            --------------   ----- \n",
      " 0   Order ID          186305 non-null  object\n",
      " 1   Product           186305 non-null  object\n",
      " 2   Quantity Ordered  186305 non-null  object\n",
      " 3   Price Each        186305 non-null  object\n",
      " 4   Order Date        186305 non-null  object\n",
      " 5   Purchase Address  186305 non-null  object\n",
      "dtypes: object(6)\n",
      "memory usage: 8.6+ MB\n"
     ]
    }
   ],
   "source": [
    "df.info()"
   ]
  },
  {
   "cell_type": "markdown",
   "id": "3604cb07-2914-4096-8cec-2ca31cebfd98",
   "metadata": {},
   "source": [
    "### 5.1. Valores nulos"
   ]
  },
  {
   "cell_type": "code",
   "execution_count": 12,
   "id": "16351f37",
   "metadata": {},
   "outputs": [
    {
     "data": {
      "text/plain": [
       "Order ID            545\n",
       "Product             545\n",
       "Quantity Ordered    545\n",
       "Price Each          545\n",
       "Order Date          545\n",
       "Purchase Address    545\n",
       "dtype: int64"
      ]
     },
     "execution_count": 12,
     "metadata": {},
     "output_type": "execute_result"
    }
   ],
   "source": [
    "df.isna().sum()"
   ]
  },
  {
   "cell_type": "code",
   "execution_count": 13,
   "id": "2f1e4ac7",
   "metadata": {},
   "outputs": [
    {
     "data": {
      "text/html": [
       "<div>\n",
       "<style scoped>\n",
       "    .dataframe tbody tr th:only-of-type {\n",
       "        vertical-align: middle;\n",
       "    }\n",
       "\n",
       "    .dataframe tbody tr th {\n",
       "        vertical-align: top;\n",
       "    }\n",
       "\n",
       "    .dataframe thead th {\n",
       "        text-align: right;\n",
       "    }\n",
       "</style>\n",
       "<table border=\"1\" class=\"dataframe\">\n",
       "  <thead>\n",
       "    <tr style=\"text-align: right;\">\n",
       "      <th></th>\n",
       "      <th>Order ID</th>\n",
       "      <th>Product</th>\n",
       "      <th>Quantity Ordered</th>\n",
       "      <th>Price Each</th>\n",
       "      <th>Order Date</th>\n",
       "      <th>Purchase Address</th>\n",
       "    </tr>\n",
       "  </thead>\n",
       "  <tbody>\n",
       "    <tr>\n",
       "      <th>664</th>\n",
       "      <td>NaN</td>\n",
       "      <td>NaN</td>\n",
       "      <td>NaN</td>\n",
       "      <td>NaN</td>\n",
       "      <td>NaN</td>\n",
       "      <td>NaN</td>\n",
       "    </tr>\n",
       "    <tr>\n",
       "      <th>678</th>\n",
       "      <td>NaN</td>\n",
       "      <td>NaN</td>\n",
       "      <td>NaN</td>\n",
       "      <td>NaN</td>\n",
       "      <td>NaN</td>\n",
       "      <td>NaN</td>\n",
       "    </tr>\n",
       "    <tr>\n",
       "      <th>797</th>\n",
       "      <td>NaN</td>\n",
       "      <td>NaN</td>\n",
       "      <td>NaN</td>\n",
       "      <td>NaN</td>\n",
       "      <td>NaN</td>\n",
       "      <td>NaN</td>\n",
       "    </tr>\n",
       "    <tr>\n",
       "      <th>876</th>\n",
       "      <td>NaN</td>\n",
       "      <td>NaN</td>\n",
       "      <td>NaN</td>\n",
       "      <td>NaN</td>\n",
       "      <td>NaN</td>\n",
       "      <td>NaN</td>\n",
       "    </tr>\n",
       "    <tr>\n",
       "      <th>1299</th>\n",
       "      <td>NaN</td>\n",
       "      <td>NaN</td>\n",
       "      <td>NaN</td>\n",
       "      <td>NaN</td>\n",
       "      <td>NaN</td>\n",
       "      <td>NaN</td>\n",
       "    </tr>\n",
       "  </tbody>\n",
       "</table>\n",
       "</div>"
      ],
      "text/plain": [
       "     Order ID Product Quantity Ordered Price Each Order Date Purchase Address\n",
       "664       NaN     NaN              NaN        NaN        NaN              NaN\n",
       "678       NaN     NaN              NaN        NaN        NaN              NaN\n",
       "797       NaN     NaN              NaN        NaN        NaN              NaN\n",
       "876       NaN     NaN              NaN        NaN        NaN              NaN\n",
       "1299      NaN     NaN              NaN        NaN        NaN              NaN"
      ]
     },
     "execution_count": 13,
     "metadata": {},
     "output_type": "execute_result"
    }
   ],
   "source": [
    "df.loc[df.isnull().any(axis=1)].head()"
   ]
  },
  {
   "cell_type": "code",
   "execution_count": 14,
   "id": "a9ce25f4",
   "metadata": {},
   "outputs": [
    {
     "data": {
      "text/plain": [
       "(186305, 6)"
      ]
     },
     "execution_count": 14,
     "metadata": {},
     "output_type": "execute_result"
    }
   ],
   "source": [
    "# Eliminar resgistros con nulos\n",
    "df = df.dropna()\n",
    "df.shape"
   ]
  },
  {
   "cell_type": "code",
   "execution_count": 15,
   "id": "1ddafa48",
   "metadata": {},
   "outputs": [
    {
     "name": "stdout",
     "output_type": "stream",
     "text": [
      "Número de nulos:  0\n"
     ]
    }
   ],
   "source": [
    "print('Número de nulos: ', df.isna().sum().sum())"
   ]
  },
  {
   "cell_type": "markdown",
   "id": "cdc30cb8-6b3e-49e7-8e6f-2fc078750db6",
   "metadata": {},
   "source": [
    "### 5.2. Tipos de datos"
   ]
  },
  {
   "cell_type": "markdown",
   "id": "85cf80fa",
   "metadata": {},
   "source": [
    "Variables que hay que cambiar el tipo:\n",
    "- Order ID -> Int\n",
    "- Quantity Ordered -> Int\n",
    "- Price Each -> Float\n",
    "- Order Date -> Datetime"
   ]
  },
  {
   "cell_type": "markdown",
   "id": "871ed79c",
   "metadata": {},
   "source": [
    "Antes de cambiar los tipos voy a cambiar los nombres de las variables y ponerlas en minusculas y sin espacios para trabajar más facilmente."
   ]
  },
  {
   "cell_type": "code",
   "execution_count": 16,
   "id": "35e37766",
   "metadata": {},
   "outputs": [],
   "source": [
    "df.columns = ['order_id', 'product', 'quantity_ordered', 'price_each', 'order_date',\n",
    "       'purchase_address']"
   ]
  },
  {
   "cell_type": "code",
   "execution_count": 17,
   "id": "a675406b",
   "metadata": {},
   "outputs": [],
   "source": [
    "df['order_id'] = pd.to_numeric(df['order_id'], errors='coerce').astype('Int64')\n",
    "df['quantity_ordered'] = pd.to_numeric(df['quantity_ordered'], errors='coerce').astype('Int64')\n",
    "df['price_each'] = pd.to_numeric(df['price_each'], errors='coerce').astype('Float64')"
   ]
  },
  {
   "cell_type": "code",
   "execution_count": 18,
   "id": "636bcac3",
   "metadata": {},
   "outputs": [
    {
     "data": {
      "text/html": [
       "<div>\n",
       "<style scoped>\n",
       "    .dataframe tbody tr th:only-of-type {\n",
       "        vertical-align: middle;\n",
       "    }\n",
       "\n",
       "    .dataframe tbody tr th {\n",
       "        vertical-align: top;\n",
       "    }\n",
       "\n",
       "    .dataframe thead th {\n",
       "        text-align: right;\n",
       "    }\n",
       "</style>\n",
       "<table border=\"1\" class=\"dataframe\">\n",
       "  <thead>\n",
       "    <tr style=\"text-align: right;\">\n",
       "      <th></th>\n",
       "      <th>order_id</th>\n",
       "      <th>product</th>\n",
       "      <th>quantity_ordered</th>\n",
       "      <th>price_each</th>\n",
       "      <th>order_date</th>\n",
       "      <th>purchase_address</th>\n",
       "    </tr>\n",
       "  </thead>\n",
       "  <tbody>\n",
       "    <tr>\n",
       "      <th>1073</th>\n",
       "      <td>&lt;NA&gt;</td>\n",
       "      <td>Product</td>\n",
       "      <td>&lt;NA&gt;</td>\n",
       "      <td>&lt;NA&gt;</td>\n",
       "      <td>Order Date</td>\n",
       "      <td>Purchase Address</td>\n",
       "    </tr>\n",
       "  </tbody>\n",
       "</table>\n",
       "</div>"
      ],
      "text/plain": [
       "      order_id  product  quantity_ordered  price_each  order_date  \\\n",
       "1073      <NA>  Product              <NA>        <NA>  Order Date   \n",
       "\n",
       "      purchase_address  \n",
       "1073  Purchase Address  "
      ]
     },
     "execution_count": 18,
     "metadata": {},
     "output_type": "execute_result"
    }
   ],
   "source": [
    "# Al ejecutar este código sale el siguiente error: 'Unknown string format: Order Date present at position 1069'\n",
    "# pd.to_datetime(df['order_date'])\n",
    "\n",
    "df.iloc[[1069], :]"
   ]
  },
  {
   "cell_type": "code",
   "execution_count": 19,
   "id": "fcde5a4a",
   "metadata": {},
   "outputs": [
    {
     "data": {
      "text/plain": [
       "(355, 6)"
      ]
     },
     "execution_count": 19,
     "metadata": {},
     "output_type": "execute_result"
    }
   ],
   "source": [
    "df.query('order_date == \"Order Date\"').shape"
   ]
  },
  {
   "cell_type": "code",
   "execution_count": 20,
   "id": "36125f27",
   "metadata": {},
   "outputs": [],
   "source": [
    "# Eliminar registros incorrectos\n",
    "eliminar = df.query('order_date == \"Order Date\"').index.to_list()\n",
    "df = df.drop(index = eliminar)\n",
    "\n",
    "# Cambiar el tipo de la variable\n",
    "df['order_date'] = pd.to_datetime(df['order_date'])"
   ]
  },
  {
   "cell_type": "code",
   "execution_count": 21,
   "id": "338cc43d",
   "metadata": {},
   "outputs": [
    {
     "name": "stdout",
     "output_type": "stream",
     "text": [
      "<class 'pandas.core.frame.DataFrame'>\n",
      "Index: 185950 entries, 0 to 186849\n",
      "Data columns (total 6 columns):\n",
      " #   Column            Non-Null Count   Dtype         \n",
      "---  ------            --------------   -----         \n",
      " 0   order_id          185950 non-null  Int64         \n",
      " 1   product           185950 non-null  object        \n",
      " 2   quantity_ordered  185950 non-null  Int64         \n",
      " 3   price_each        185950 non-null  Float64       \n",
      " 4   order_date        185950 non-null  datetime64[ns]\n",
      " 5   purchase_address  185950 non-null  object        \n",
      "dtypes: Float64(1), Int64(2), datetime64[ns](1), object(2)\n",
      "memory usage: 10.5+ MB\n"
     ]
    }
   ],
   "source": [
    "df.info()"
   ]
  },
  {
   "cell_type": "markdown",
   "id": "db62b1a5-fbf1-49cb-8287-df852764840a",
   "metadata": {},
   "source": [
    "### 5.3. Registros duplicados"
   ]
  },
  {
   "cell_type": "code",
   "execution_count": 22,
   "id": "76e6dc63",
   "metadata": {},
   "outputs": [
    {
     "name": "stdout",
     "output_type": "stream",
     "text": [
      "Número de registros duplicados:  264\n"
     ]
    }
   ],
   "source": [
    "print('Número de registros duplicados: ', df.duplicated().sum())"
   ]
  },
  {
   "cell_type": "code",
   "execution_count": 23,
   "id": "ec9324f3",
   "metadata": {},
   "outputs": [
    {
     "data": {
      "text/html": [
       "<div>\n",
       "<style scoped>\n",
       "    .dataframe tbody tr th:only-of-type {\n",
       "        vertical-align: middle;\n",
       "    }\n",
       "\n",
       "    .dataframe tbody tr th {\n",
       "        vertical-align: top;\n",
       "    }\n",
       "\n",
       "    .dataframe thead th {\n",
       "        text-align: right;\n",
       "    }\n",
       "</style>\n",
       "<table border=\"1\" class=\"dataframe\">\n",
       "  <thead>\n",
       "    <tr style=\"text-align: right;\">\n",
       "      <th></th>\n",
       "      <th>order_id</th>\n",
       "      <th>product</th>\n",
       "      <th>quantity_ordered</th>\n",
       "      <th>price_each</th>\n",
       "      <th>order_date</th>\n",
       "      <th>purchase_address</th>\n",
       "    </tr>\n",
       "  </thead>\n",
       "  <tbody>\n",
       "    <tr>\n",
       "      <th>874</th>\n",
       "      <td>142071</td>\n",
       "      <td>AA Batteries (4-pack)</td>\n",
       "      <td>1</td>\n",
       "      <td>3.84</td>\n",
       "      <td>2019-01-17 23:02:00</td>\n",
       "      <td>131 2nd St, Boston, MA 02215</td>\n",
       "    </tr>\n",
       "    <tr>\n",
       "      <th>875</th>\n",
       "      <td>142071</td>\n",
       "      <td>AA Batteries (4-pack)</td>\n",
       "      <td>1</td>\n",
       "      <td>3.84</td>\n",
       "      <td>2019-01-17 23:02:00</td>\n",
       "      <td>131 2nd St, Boston, MA 02215</td>\n",
       "    </tr>\n",
       "    <tr>\n",
       "      <th>4125</th>\n",
       "      <td>145143</td>\n",
       "      <td>Lightning Charging Cable</td>\n",
       "      <td>1</td>\n",
       "      <td>14.95</td>\n",
       "      <td>2019-01-06 03:01:00</td>\n",
       "      <td>182 Jefferson St, San Francisco, CA 94016</td>\n",
       "    </tr>\n",
       "    <tr>\n",
       "      <th>4126</th>\n",
       "      <td>145143</td>\n",
       "      <td>Lightning Charging Cable</td>\n",
       "      <td>1</td>\n",
       "      <td>14.95</td>\n",
       "      <td>2019-01-06 03:01:00</td>\n",
       "      <td>182 Jefferson St, San Francisco, CA 94016</td>\n",
       "    </tr>\n",
       "    <tr>\n",
       "      <th>5810</th>\n",
       "      <td>146765</td>\n",
       "      <td>Google Phone</td>\n",
       "      <td>1</td>\n",
       "      <td>600.0</td>\n",
       "      <td>2019-01-21 11:23:00</td>\n",
       "      <td>918 Highland St, New York City, NY 10001</td>\n",
       "    </tr>\n",
       "    <tr>\n",
       "      <th>...</th>\n",
       "      <td>...</td>\n",
       "      <td>...</td>\n",
       "      <td>...</td>\n",
       "      <td>...</td>\n",
       "      <td>...</td>\n",
       "      <td>...</td>\n",
       "    </tr>\n",
       "    <tr>\n",
       "      <th>182973</th>\n",
       "      <td>315955</td>\n",
       "      <td>ThinkPad Laptop</td>\n",
       "      <td>1</td>\n",
       "      <td>999.99</td>\n",
       "      <td>2019-12-26 17:28:00</td>\n",
       "      <td>588 Chestnut St, Seattle, WA 98101</td>\n",
       "    </tr>\n",
       "    <tr>\n",
       "      <th>183199</th>\n",
       "      <td>316173</td>\n",
       "      <td>AAA Batteries (4-pack)</td>\n",
       "      <td>1</td>\n",
       "      <td>2.99</td>\n",
       "      <td>2019-12-22 22:44:00</td>\n",
       "      <td>907 Sunset St, Portland, OR 97035</td>\n",
       "    </tr>\n",
       "    <tr>\n",
       "      <th>183200</th>\n",
       "      <td>316173</td>\n",
       "      <td>AAA Batteries (4-pack)</td>\n",
       "      <td>1</td>\n",
       "      <td>2.99</td>\n",
       "      <td>2019-12-22 22:44:00</td>\n",
       "      <td>907 Sunset St, Portland, OR 97035</td>\n",
       "    </tr>\n",
       "    <tr>\n",
       "      <th>185084</th>\n",
       "      <td>317971</td>\n",
       "      <td>AA Batteries (4-pack)</td>\n",
       "      <td>1</td>\n",
       "      <td>3.84</td>\n",
       "      <td>2019-12-17 18:39:00</td>\n",
       "      <td>250 Chestnut St, San Francisco, CA 94016</td>\n",
       "    </tr>\n",
       "    <tr>\n",
       "      <th>185085</th>\n",
       "      <td>317971</td>\n",
       "      <td>AA Batteries (4-pack)</td>\n",
       "      <td>1</td>\n",
       "      <td>3.84</td>\n",
       "      <td>2019-12-17 18:39:00</td>\n",
       "      <td>250 Chestnut St, San Francisco, CA 94016</td>\n",
       "    </tr>\n",
       "  </tbody>\n",
       "</table>\n",
       "<p>528 rows × 6 columns</p>\n",
       "</div>"
      ],
      "text/plain": [
       "        order_id                   product  quantity_ordered  price_each  \\\n",
       "874       142071     AA Batteries (4-pack)                 1        3.84   \n",
       "875       142071     AA Batteries (4-pack)                 1        3.84   \n",
       "4125      145143  Lightning Charging Cable                 1       14.95   \n",
       "4126      145143  Lightning Charging Cable                 1       14.95   \n",
       "5810      146765              Google Phone                 1       600.0   \n",
       "...          ...                       ...               ...         ...   \n",
       "182973    315955           ThinkPad Laptop                 1      999.99   \n",
       "183199    316173    AAA Batteries (4-pack)                 1        2.99   \n",
       "183200    316173    AAA Batteries (4-pack)                 1        2.99   \n",
       "185084    317971     AA Batteries (4-pack)                 1        3.84   \n",
       "185085    317971     AA Batteries (4-pack)                 1        3.84   \n",
       "\n",
       "                order_date                           purchase_address  \n",
       "874    2019-01-17 23:02:00               131 2nd St, Boston, MA 02215  \n",
       "875    2019-01-17 23:02:00               131 2nd St, Boston, MA 02215  \n",
       "4125   2019-01-06 03:01:00  182 Jefferson St, San Francisco, CA 94016  \n",
       "4126   2019-01-06 03:01:00  182 Jefferson St, San Francisco, CA 94016  \n",
       "5810   2019-01-21 11:23:00   918 Highland St, New York City, NY 10001  \n",
       "...                    ...                                        ...  \n",
       "182973 2019-12-26 17:28:00         588 Chestnut St, Seattle, WA 98101  \n",
       "183199 2019-12-22 22:44:00          907 Sunset St, Portland, OR 97035  \n",
       "183200 2019-12-22 22:44:00          907 Sunset St, Portland, OR 97035  \n",
       "185084 2019-12-17 18:39:00   250 Chestnut St, San Francisco, CA 94016  \n",
       "185085 2019-12-17 18:39:00   250 Chestnut St, San Francisco, CA 94016  \n",
       "\n",
       "[528 rows x 6 columns]"
      ]
     },
     "execution_count": 23,
     "metadata": {},
     "output_type": "execute_result"
    }
   ],
   "source": [
    "df[df.duplicated(keep=False)]"
   ]
  },
  {
   "cell_type": "markdown",
   "id": "28211a77",
   "metadata": {},
   "source": [
    "En este caso se pueden haber generado los duplicados sin querer y podria ser que el cliente haya comprado dos unidades del mismo producto en la misma sesión pero por algún motivo se haya dividido en dos registros diferentes. Pero como hay también compras de ordenadores de 999.99$ supongo que se habran generado los duplicados por error y no sucede lo que he comentado."
   ]
  },
  {
   "cell_type": "code",
   "execution_count": 24,
   "id": "bb27bad7",
   "metadata": {},
   "outputs": [
    {
     "name": "stdout",
     "output_type": "stream",
     "text": [
      "Número de registros duplicados:  0\n"
     ]
    }
   ],
   "source": [
    "# Eliminar registros duplicados\n",
    "df = df.drop_duplicates()\n",
    "\n",
    "# Comprobar duplicados\n",
    "print('Número de registros duplicados: ', df.duplicated().sum())"
   ]
  },
  {
   "cell_type": "code",
   "execution_count": 25,
   "id": "2d369002",
   "metadata": {},
   "outputs": [],
   "source": [
    "# Resetear el índice\n",
    "df = df.reset_index(drop = True)"
   ]
  },
  {
   "cell_type": "markdown",
   "id": "7ffc9a10-62c4-47f9-8922-79d8aeb9c172",
   "metadata": {},
   "source": [
    "### 5.4. Revisar los datos"
   ]
  },
  {
   "cell_type": "code",
   "execution_count": 26,
   "id": "37e4cde4",
   "metadata": {},
   "outputs": [
    {
     "data": {
      "text/html": [
       "<div>\n",
       "<style scoped>\n",
       "    .dataframe tbody tr th:only-of-type {\n",
       "        vertical-align: middle;\n",
       "    }\n",
       "\n",
       "    .dataframe tbody tr th {\n",
       "        vertical-align: top;\n",
       "    }\n",
       "\n",
       "    .dataframe thead th {\n",
       "        text-align: right;\n",
       "    }\n",
       "</style>\n",
       "<table border=\"1\" class=\"dataframe\">\n",
       "  <thead>\n",
       "    <tr style=\"text-align: right;\">\n",
       "      <th></th>\n",
       "      <th>count</th>\n",
       "      <th>unique</th>\n",
       "      <th>top</th>\n",
       "      <th>freq</th>\n",
       "      <th>mean</th>\n",
       "      <th>min</th>\n",
       "      <th>25%</th>\n",
       "      <th>50%</th>\n",
       "      <th>75%</th>\n",
       "      <th>max</th>\n",
       "      <th>std</th>\n",
       "    </tr>\n",
       "  </thead>\n",
       "  <tbody>\n",
       "    <tr>\n",
       "      <th>order_id</th>\n",
       "      <td>185686.0</td>\n",
       "      <td>&lt;NA&gt;</td>\n",
       "      <td>&lt;NA&gt;</td>\n",
       "      <td>&lt;NA&gt;</td>\n",
       "      <td>230411.376227</td>\n",
       "      <td>141234.0</td>\n",
       "      <td>185833.25</td>\n",
       "      <td>230354.5</td>\n",
       "      <td>275028.75</td>\n",
       "      <td>319670.0</td>\n",
       "      <td>51511.717183</td>\n",
       "    </tr>\n",
       "    <tr>\n",
       "      <th>product</th>\n",
       "      <td>185686</td>\n",
       "      <td>19</td>\n",
       "      <td>USB-C Charging Cable</td>\n",
       "      <td>21859</td>\n",
       "      <td>NaN</td>\n",
       "      <td>NaN</td>\n",
       "      <td>NaN</td>\n",
       "      <td>NaN</td>\n",
       "      <td>NaN</td>\n",
       "      <td>NaN</td>\n",
       "      <td>NaN</td>\n",
       "    </tr>\n",
       "    <tr>\n",
       "      <th>quantity_ordered</th>\n",
       "      <td>185686.0</td>\n",
       "      <td>&lt;NA&gt;</td>\n",
       "      <td>&lt;NA&gt;</td>\n",
       "      <td>&lt;NA&gt;</td>\n",
       "      <td>1.124544</td>\n",
       "      <td>1.0</td>\n",
       "      <td>1.0</td>\n",
       "      <td>1.0</td>\n",
       "      <td>1.0</td>\n",
       "      <td>9.0</td>\n",
       "      <td>0.443069</td>\n",
       "    </tr>\n",
       "    <tr>\n",
       "      <th>price_each</th>\n",
       "      <td>185686.0</td>\n",
       "      <td>&lt;NA&gt;</td>\n",
       "      <td>&lt;NA&gt;</td>\n",
       "      <td>&lt;NA&gt;</td>\n",
       "      <td>184.519255</td>\n",
       "      <td>2.99</td>\n",
       "      <td>11.95</td>\n",
       "      <td>14.95</td>\n",
       "      <td>150.0</td>\n",
       "      <td>1700.0</td>\n",
       "      <td>332.843838</td>\n",
       "    </tr>\n",
       "    <tr>\n",
       "      <th>order_date</th>\n",
       "      <td>185686</td>\n",
       "      <td>NaN</td>\n",
       "      <td>NaN</td>\n",
       "      <td>NaN</td>\n",
       "      <td>2019-07-18 21:32:06.298051328</td>\n",
       "      <td>2019-01-01 03:07:00</td>\n",
       "      <td>2019-04-16 20:55:15</td>\n",
       "      <td>2019-07-17 20:11:00</td>\n",
       "      <td>2019-10-26 08:00:00</td>\n",
       "      <td>2020-01-01 05:13:00</td>\n",
       "      <td>NaN</td>\n",
       "    </tr>\n",
       "    <tr>\n",
       "      <th>purchase_address</th>\n",
       "      <td>185686</td>\n",
       "      <td>140787</td>\n",
       "      <td>193 Forest St, San Francisco, CA 94016</td>\n",
       "      <td>9</td>\n",
       "      <td>NaN</td>\n",
       "      <td>NaN</td>\n",
       "      <td>NaN</td>\n",
       "      <td>NaN</td>\n",
       "      <td>NaN</td>\n",
       "      <td>NaN</td>\n",
       "      <td>NaN</td>\n",
       "    </tr>\n",
       "  </tbody>\n",
       "</table>\n",
       "</div>"
      ],
      "text/plain": [
       "                     count  unique                                     top  \\\n",
       "order_id          185686.0    <NA>                                    <NA>   \n",
       "product             185686      19                    USB-C Charging Cable   \n",
       "quantity_ordered  185686.0    <NA>                                    <NA>   \n",
       "price_each        185686.0    <NA>                                    <NA>   \n",
       "order_date          185686     NaN                                     NaN   \n",
       "purchase_address    185686  140787  193 Forest St, San Francisco, CA 94016   \n",
       "\n",
       "                   freq                           mean                  min  \\\n",
       "order_id           <NA>                  230411.376227             141234.0   \n",
       "product           21859                            NaN                  NaN   \n",
       "quantity_ordered   <NA>                       1.124544                  1.0   \n",
       "price_each         <NA>                     184.519255                 2.99   \n",
       "order_date          NaN  2019-07-18 21:32:06.298051328  2019-01-01 03:07:00   \n",
       "purchase_address      9                            NaN                  NaN   \n",
       "\n",
       "                                  25%                  50%  \\\n",
       "order_id                    185833.25             230354.5   \n",
       "product                           NaN                  NaN   \n",
       "quantity_ordered                  1.0                  1.0   \n",
       "price_each                      11.95                14.95   \n",
       "order_date        2019-04-16 20:55:15  2019-07-17 20:11:00   \n",
       "purchase_address                  NaN                  NaN   \n",
       "\n",
       "                                  75%                  max           std  \n",
       "order_id                    275028.75             319670.0  51511.717183  \n",
       "product                           NaN                  NaN           NaN  \n",
       "quantity_ordered                  1.0                  9.0      0.443069  \n",
       "price_each                      150.0               1700.0    332.843838  \n",
       "order_date        2019-10-26 08:00:00  2020-01-01 05:13:00           NaN  \n",
       "purchase_address                  NaN                  NaN           NaN  "
      ]
     },
     "execution_count": 26,
     "metadata": {},
     "output_type": "execute_result"
    }
   ],
   "source": [
    "df.describe(include = 'all').T"
   ]
  },
  {
   "cell_type": "markdown",
   "id": "6701d3c5",
   "metadata": {},
   "source": [
    "Parece que no hay ninguna cosa rara en los datos.\n",
    "\n",
    "Conclusiones:\n",
    "- Sólo hay 19 productos en el catálogo, o por lo menos son los que se han comprado.\n",
    "- El producto más vendido (21480 ventas) es el USB-C Charging Cable.\n",
    "- Han habido un máximo de 9 compras de un mismo cliente en todo el año."
   ]
  },
  {
   "cell_type": "markdown",
   "id": "c1647ff9-e9f1-4181-9101-8244e8e874b3",
   "metadata": {},
   "source": [
    "### 5.5. Guardar el dataset"
   ]
  },
  {
   "cell_type": "code",
   "execution_count": 27,
   "id": "3de15fb6",
   "metadata": {},
   "outputs": [],
   "source": [
    "pd.to_pickle(df, 'df.pickle')"
   ]
  }
 ],
 "metadata": {
  "kernelspec": {
   "display_name": "Python 3 (ipykernel)",
   "language": "python",
   "name": "python3"
  },
  "language_info": {
   "codemirror_mode": {
    "name": "ipython",
    "version": 3
   },
   "file_extension": ".py",
   "mimetype": "text/x-python",
   "name": "python",
   "nbconvert_exporter": "python",
   "pygments_lexer": "ipython3",
   "version": "3.8.18"
  },
  "varInspector": {
   "cols": {
    "lenName": 16,
    "lenType": 16,
    "lenVar": 40
   },
   "kernels_config": {
    "python": {
     "delete_cmd_postfix": "",
     "delete_cmd_prefix": "del ",
     "library": "var_list.py",
     "varRefreshCmd": "print(var_dic_list())"
    },
    "r": {
     "delete_cmd_postfix": ") ",
     "delete_cmd_prefix": "rm(",
     "library": "var_list.r",
     "varRefreshCmd": "cat(var_dic_list()) "
    }
   },
   "types_to_exclude": [
    "module",
    "function",
    "builtin_function_or_method",
    "instance",
    "_Feature"
   ],
   "window_display": false
  }
 },
 "nbformat": 4,
 "nbformat_minor": 5
}
